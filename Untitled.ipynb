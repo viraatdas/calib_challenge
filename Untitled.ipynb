{
 "cells": [
  {
   "cell_type": "code",
   "execution_count": 4,
   "id": "2927be23-7f0a-4c2b-87e8-622fe9f5782a",
   "metadata": {},
   "outputs": [],
   "source": [
    "import pickle\n",
    "\n",
    "with open(\"magnitudes.pkl\", \"rb\") as f:\n",
    "    magnitudes = pickle.load(f)\n",
    "\n",
    "with open(\"angles.pkl\", \"rb\") as f:\n",
    "    angles = pickle.load(f)"
   ]
  },
  {
   "cell_type": "code",
   "execution_count": 5,
   "id": "f96e062c-a70f-4229-ade1-3ba496319058",
   "metadata": {},
   "outputs": [],
   "source": [
    "import numpy as np\n",
    "import cv2 as cv\n",
    "from os import path\n",
    "from tqdm import trange\n",
    "import matplotlib.pyplot as plt\n",
    "\n",
    "TRAIN_DIR = \"labeled\"\n",
    "video_file = \"0.hevc\"\n",
    "text_file = \"0.txt\"\n"
   ]
  },
  {
   "cell_type": "code",
   "execution_count": 6,
   "id": "78dfbe8b-3570-4a73-b9d5-b0bd9dbe04f2",
   "metadata": {},
   "outputs": [],
   "source": [
    "# convert text file to array\n",
    "pitches, yaws = [], []\n",
    "with open(path.join(TRAIN_DIR, text_file), \"r\") as f:\n",
    "     for line in f:\n",
    "        pitch, yaw = line.split()\n",
    "        pitches.append(float(pitch))\n",
    "        yaws.append(float(yaw))\n",
    "\n"
   ]
  },
  {
   "cell_type": "code",
   "execution_count": 7,
   "id": "b684458e-3808-448b-a857-f7bb75ea085e",
   "metadata": {},
   "outputs": [],
   "source": [
    "from sklearn.model_selection import train_test_split\n",
    "\n",
    "mod_pitches = pitches[1:]\n",
    "mod_yaws = yaws[1:]\n",
    "\n",
    "X_mag_train, X_mag_test = train_test_split(magnitudes, test_size=0.2, random_state=25)\n",
    "X_ang_train, X_ang_test = train_test_split(angles, test_size=0.2, random_state=25)\n",
    "\n",
    "Y_pitch_train, Y_pitch_test = train_test_split(mod_pitches, test_size=0.2, random_state=25)\n",
    "Y_yaw_train, Y_yaw_test = train_test_split(mod_yaws, test_size=0.2, random_state=25)\n"
   ]
  },
  {
   "cell_type": "code",
   "execution_count": null,
   "id": "71db25bb-dafb-4f86-963e-d1b455403523",
   "metadata": {},
   "outputs": [],
   "source": [
    "# define model\n",
    "from xgboost import XGBRegressor\n",
    "\n",
    "X_train = np.column_stack((X_mag_train, X_ang_train))\n",
    "model = XGBRegressor()\n",
    "\n",
    "model.fit(X_train, Y_pitch_train)"
   ]
  },
  {
   "cell_type": "code",
   "execution_count": null,
   "id": "a383c540-b873-4ae2-8944-b6c620b12ad7",
   "metadata": {},
   "outputs": [],
   "source": [
    "from sklearn.metrics import mean_squared_error\n",
    "\n",
    "X_test = X = np.column_stack((X_mag_test, X_ang_test))\n",
    "Y_pitch_pred = model.predict(X_test)\n",
    "print(mean_squared_error(Y_pitch_test, Y_pitch_pred)"
   ]
  },
  {
   "cell_type": "code",
   "execution_count": null,
   "id": "b41626d7-cc72-44b2-ba12-ad8ce2a8b4fc",
   "metadata": {},
   "outputs": [],
   "source": []
  }
 ],
 "metadata": {
  "kernelspec": {
   "display_name": "Python 3 (ipykernel)",
   "language": "python",
   "name": "python3"
  },
  "language_info": {
   "codemirror_mode": {
    "name": "ipython",
    "version": 3
   },
   "file_extension": ".py",
   "mimetype": "text/x-python",
   "name": "python",
   "nbconvert_exporter": "python",
   "pygments_lexer": "ipython3",
   "version": "3.9.14"
  }
 },
 "nbformat": 4,
 "nbformat_minor": 5
}
